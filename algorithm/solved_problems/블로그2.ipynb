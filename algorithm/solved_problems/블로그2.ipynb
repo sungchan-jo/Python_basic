{
 "cells": [
  {
   "cell_type": "code",
   "execution_count": 2,
   "metadata": {},
   "outputs": [
    {
     "name": "stdout",
     "output_type": "stream",
     "text": [
      "4\n"
     ]
    }
   ],
   "source": [
    "## 첫번째 시도\n",
    "\n",
    "\n",
    "\n",
    "number = 8\n",
    "colors = \"RBRBRBBR\"\n",
    "\n",
    "number = int(input())\n",
    "colors = str(input())\n",
    "\n",
    "R_color , B_color = 0, 0\n",
    "\n",
    "for color in colors:\n",
    "    if color == \"B\":\n",
    "        B_color += 1\n",
    "    else:\n",
    "        R_color += 1\n",
    "        \n",
    "print(min(B_color,R_color) + 1)"
   ]
  },
  {
   "cell_type": "code",
   "execution_count": 5,
   "metadata": {},
   "outputs": [
    {
     "name": "stdout",
     "output_type": "stream",
     "text": [
      "BRBRBR\n",
      "4\n"
     ]
    }
   ],
   "source": [
    "## 중복 제거 후 시도\n",
    "        \n",
    "new_color = \"\"\n",
    "\n",
    "new_color += colors[0]\n",
    "\n",
    "for color in colors[1:]:\n",
    "    if new_color[-1] != color:\n",
    "        new_color += color\n",
    "\n",
    "\n",
    "R_color , B_color = 0, 0\n",
    "\n",
    "for color in new_color:\n",
    "    if color == \"B\":\n",
    "        B_color += 1\n",
    "    else:\n",
    "        R_color += 1\n",
    "        \n",
    "print(min(B_color,R_color) + 1)"
   ]
  },
  {
   "cell_type": "code",
   "execution_count": 9,
   "metadata": {},
   "outputs": [
    {
     "name": "stdout",
     "output_type": "stream",
     "text": [
      "3 3\n"
     ]
    }
   ],
   "source": [
    "R_count = new_color[:-1].count(\"R\")\n",
    "B_count = new_color[:-1].count(\"B\")    \n",
    "\n",
    "print(R_count, B_count)\n",
    "    \n",
    "    \n",
    "    \n",
    "        "
   ]
  },
  {
   "cell_type": "code",
   "execution_count": null,
   "metadata": {},
   "outputs": [],
   "source": [
    "BRBRBR"
   ]
  }
 ],
 "metadata": {
  "kernelspec": {
   "display_name": "Python 3",
   "language": "python",
   "name": "python3"
  },
  "language_info": {
   "codemirror_mode": {
    "name": "ipython",
    "version": 3
   },
   "file_extension": ".py",
   "mimetype": "text/x-python",
   "name": "python",
   "nbconvert_exporter": "python",
   "pygments_lexer": "ipython3",
   "version": "3.11.6"
  }
 },
 "nbformat": 4,
 "nbformat_minor": 2
}
