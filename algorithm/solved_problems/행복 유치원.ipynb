{
 "cells": [
  {
   "cell_type": "code",
   "execution_count": 4,
   "metadata": {},
   "outputs": [
    {
     "name": "stdout",
     "output_type": "stream",
     "text": [
      "[1, 2, 2, 4]\n",
      "3\n"
     ]
    }
   ],
   "source": [
    "# 5시 8분 시작\n",
    "# N 명의 원생들 키 순서대로 줄세우기\n",
    "# K개의 조로 나누기\n",
    "\n",
    "# 각 조엔 최소 한명, 같은 조에 원생들은 서로 인접해야 한다\n",
    "\n",
    "# 티셔츠 비용은 원생의 키차이만큼 든다.\n",
    "# K개의 조에 대해 티셔츠를 만드는 비용의 합을 최소\n",
    "\n",
    "\n",
    "N, K = 5, 3\n",
    "heights = [1, 3, 5, 6, 10]\n",
    "\n",
    "\n",
    "\n",
    "# [2, 2, 1 4 ]\n",
    "\n",
    "\n",
    "# K == 1\n",
    "# [2, 2, 1, 4]\n",
    "\n",
    "\n",
    "# K == 2\n",
    "# [1, 3, 5, 6] [10]\n",
    "# 2, 2, 1\n",
    "\n",
    "# K == 3\n",
    "# [10], [1 , 3][ 5, 6]\n",
    "# 2, 1\n",
    "\n",
    "# k == 4 \n",
    "# [10], [1]  [3] [ 5, 6]\n",
    "# 1\n",
    "\n",
    "\n",
    "\n",
    "# N,K = map(int,input().split())\n",
    "# heights = list(map(int,input().split()))\n",
    "\n",
    "\n",
    "height_diff = []\n",
    "\n",
    "for i in range(1, N):\n",
    "    height_diff.append(heights[i] - heights[i-1])\n",
    "    \n",
    "height_diff.sort()\n",
    "\n",
    "print(height_diff)\n",
    "print(sum(height_diff[:K-1]))\n",
    "\n",
    "\n",
    "\n",
    "\n",
    "\n",
    "\n",
    "\n"
   ]
  },
  {
   "cell_type": "code",
   "execution_count": null,
   "metadata": {},
   "outputs": [],
   "source": []
  }
 ],
 "metadata": {
  "kernelspec": {
   "display_name": "Python 3",
   "language": "python",
   "name": "python3"
  },
  "language_info": {
   "codemirror_mode": {
    "name": "ipython",
    "version": 3
   },
   "file_extension": ".py",
   "mimetype": "text/x-python",
   "name": "python",
   "nbconvert_exporter": "python",
   "pygments_lexer": "ipython3",
   "version": "3.11.6"
  }
 },
 "nbformat": 4,
 "nbformat_minor": 2
}
