{
 "cells": [
  {
   "cell_type": "code",
   "execution_count": 28,
   "metadata": {},
   "outputs": [
    {
     "name": "stdout",
     "output_type": "stream",
     "text": [
      "[0, 1, 2, 3, 4]\n",
      "13\n"
     ]
    }
   ],
   "source": [
    "## N 명의 고리 회원 M 가지 종류의 치킨 선호도\n",
    "## 한 사람의 만족도는 치킨 중에서 선호도가 가장 큰 값으로 결정\n",
    "## 회원들의 만족도 합이 최대가 되도록 치킨을 주문\n",
    "\n",
    "# 1< N <  30  3 < M < 30\n",
    "\n",
    "\n",
    "from itertools import combinations\n",
    "\n",
    "N, M = list(map(int, input().split()))\n",
    "\n",
    "array = []\n",
    "for _ in range(N):\n",
    "    array.append(list(map(int, input().split())))\n",
    "\n",
    "\n",
    "chicken_label = [i for i in range(M)]\n",
    "\n",
    "combination_list = list(combinations(chicken_label, 3))\n",
    "\n",
    "answer = 0\n",
    "while combination_list:\n",
    "    a,b,c = combination_list.pop()\n",
    "    temp_max = 0\n",
    "    \n",
    "    personal = []\n",
    "    for arr in array:\n",
    "        personal.append(max(arr[a],arr[b],arr[c]))\n",
    "\n",
    "        \n",
    "    answer = max(answer,sum(personal))\n",
    "\n",
    "print(answer)\n",
    "\n",
    "\n",
    "    \n"
   ]
  },
  {
   "cell_type": "code",
   "execution_count": 14,
   "metadata": {},
   "outputs": [],
   "source": [
    "\n"
   ]
  },
  {
   "cell_type": "code",
   "execution_count": 15,
   "metadata": {},
   "outputs": [
    {
     "name": "stdout",
     "output_type": "stream",
     "text": [
      "[2 5 7 6]\n"
     ]
    }
   ],
   "source": []
  },
  {
   "cell_type": "code",
   "execution_count": 7,
   "metadata": {},
   "outputs": [
    {
     "data": {
      "text/plain": [
       "array([3, 6, 4, 5])"
      ]
     },
     "execution_count": 7,
     "metadata": {},
     "output_type": "execute_result"
    }
   ],
   "source": [
    "import numpy as np\n",
    "np.array([1,2,3,4]) + np.array([2,4,1,1])"
   ]
  },
  {
   "cell_type": "code",
   "execution_count": null,
   "metadata": {},
   "outputs": [],
   "source": []
  }
 ],
 "metadata": {
  "kernelspec": {
   "display_name": "base",
   "language": "python",
   "name": "python3"
  },
  "language_info": {
   "codemirror_mode": {
    "name": "ipython",
    "version": 3
   },
   "file_extension": ".py",
   "mimetype": "text/x-python",
   "name": "python",
   "nbconvert_exporter": "python",
   "pygments_lexer": "ipython3",
   "version": "3.10.9"
  }
 },
 "nbformat": 4,
 "nbformat_minor": 2
}
