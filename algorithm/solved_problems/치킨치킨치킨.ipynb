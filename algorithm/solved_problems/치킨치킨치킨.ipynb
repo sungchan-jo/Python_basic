{
 "cells": [
  {
   "cell_type": "code",
   "execution_count": 8,
   "metadata": {},
   "outputs": [
    {
     "name": "stdout",
     "output_type": "stream",
     "text": [
      "[(0, 1, 2), (0, 1, 3), (0, 1, 4), (0, 2, 3), (0, 2, 4), (0, 3, 4), (1, 2, 3), (1, 2, 4), (1, 3, 4), (2, 3, 4)]\n",
      "13\n"
     ]
    }
   ],
   "source": [
    "\n",
    "\n",
    "from itertools import combinations\n",
    "\n",
    "N, M = list(map(int, input().split()))\n",
    "\n",
    "array = []\n",
    "for _ in range(N):\n",
    "    array.append(list(map(int, input().split())))\n",
    "\n",
    "\n",
    "chicken_label = [i for i in range(M)]\n",
    "\n",
    "combination_list = list(combinations(chicken_label, 3))\n",
    "\n",
    "\n",
    "print(combination_list)\n",
    "\n",
    "answer = 0\n",
    "while combination_list:\n",
    "    a,b,c = combination_list.pop()\n",
    "    temp_max = 0\n",
    "    \n",
    "    personal = []\n",
    "    for arr in array:\n",
    "        personal.append(max(arr[a],arr[b],arr[c]))\n",
    "\n",
    "        \n",
    "    answer = max(answer,sum(personal))\n",
    "\n",
    "print(answer)\n",
    "\n",
    "\n",
    "    \n"
   ]
  },
  {
   "cell_type": "code",
   "execution_count": 5,
   "metadata": {},
   "outputs": [],
   "source": [
    "from itertools import combinations, permutations\n"
   ]
  },
  {
   "cell_type": "code",
   "execution_count": 15,
   "metadata": {},
   "outputs": [
    {
     "name": "stdout",
     "output_type": "stream",
     "text": [
      "[2 5 7 6]\n"
     ]
    }
   ],
   "source": []
  },
  {
   "cell_type": "code",
   "execution_count": 7,
   "metadata": {},
   "outputs": [
    {
     "data": {
      "text/plain": [
       "array([3, 6, 4, 5])"
      ]
     },
     "execution_count": 7,
     "metadata": {},
     "output_type": "execute_result"
    }
   ],
   "source": [
    "import numpy as np\n",
    "np.array([1,2,3,4]) + np.array([2,4,1,1])"
   ]
  },
  {
   "cell_type": "code",
   "execution_count": null,
   "metadata": {},
   "outputs": [],
   "source": []
  }
 ],
 "metadata": {
  "kernelspec": {
   "display_name": "base",
   "language": "python",
   "name": "python3"
  },
  "language_info": {
   "codemirror_mode": {
    "name": "ipython",
    "version": 3
   },
   "file_extension": ".py",
   "mimetype": "text/x-python",
   "name": "python",
   "nbconvert_exporter": "python",
   "pygments_lexer": "ipython3",
   "version": "3.10.9"
  }
 },
 "nbformat": 4,
 "nbformat_minor": 2
}
