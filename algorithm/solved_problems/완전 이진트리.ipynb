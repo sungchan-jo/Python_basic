{
 "cells": [
  {
   "cell_type": "code",
   "execution_count": 1,
   "metadata": {},
   "outputs": [],
   "source": [
    "## 이진 탐색 재귀 함수로 구현\n",
    "\n",
    "def binary_search(array, target, start, end):\n",
    "    if start > end:\n",
    "        return None\n",
    "    mid = (start + end) // 2\n",
    "\n",
    "    if array[mid] == target:\n",
    "        return mid\n",
    "    \n",
    "    elif array[mid] > target:\n",
    "        return binary_search(array, target, start, mid -1)\n",
    "    \n",
    "    else:\n",
    "        return binary_search(array, target, mid+1, end)   "
   ]
  },
  {
   "cell_type": "code",
   "execution_count": 24,
   "metadata": {},
   "outputs": [
    {
     "name": "stdout",
     "output_type": "stream",
     "text": [
      "3\n",
      "6\n",
      "1\n",
      "4\n",
      "2\n",
      "5\n",
      "7\n"
     ]
    }
   ],
   "source": [
    "array = [1, 6, 4, 3, 5, 2, 7]\n",
    "\n",
    "def binary_search(array,  start, end):\n",
    "    \n",
    "    mid = (start + end) // 2\n",
    "\n",
    "    print(array[mid])\n",
    "\n",
    "    if start == end:\n",
    "        return array[mid]\n",
    "    binary_search(array, start , mid-1)\n",
    "    binary_search(array, mid+1 , end)\n",
    "    \n",
    "    \n",
    "binary_search(array, 0 , 6)\n"
   ]
  },
  {
   "cell_type": "code",
   "execution_count": 19,
   "metadata": {},
   "outputs": [
    {
     "name": "stdout",
     "output_type": "stream",
     "text": [
      "[[], [], []]\n",
      "[[3], [6, 2], [1, 4, 5, 7]]\n"
     ]
    }
   ],
   "source": [
    "array = [1, 6, 4, 3, 5, 2, 7]\n",
    "temp = [[] for _ in range(3)]\n",
    "\n",
    "\n",
    "print(temp)\n",
    "\n",
    "\n",
    "def binary_search(array, k):\n",
    "    \n",
    "    \n",
    "    mid = len(array) // 2\n",
    " \n",
    "    temp[k].append(array[mid])\n",
    "\n",
    "    if len(array) == 1:\n",
    "        return \n",
    "\n",
    "    binary_search(array[:mid], k+1)\n",
    "    binary_search(array[mid+1:], k+1)\n",
    "\n",
    "    \n",
    "    \n",
    "binary_search(array, 0)\n",
    "\n",
    "\n",
    "\n",
    "\n",
    "\n"
   ]
  },
  {
   "cell_type": "code",
   "execution_count": 30,
   "metadata": {},
   "outputs": [
    {
     "name": "stdout",
     "output_type": "stream",
     "text": [
      "3 \n",
      "6 2 \n",
      "1 4 5 7 \n"
     ]
    }
   ],
   "source": [
    "k = int(input())\n",
    "array = list(map(int, input().split()))\n",
    "temp = [[] for _ in range(k)]\n",
    "\n",
    "def binary_search(array, k):\n",
    "    \n",
    "    \n",
    "    mid = len(array) // 2\n",
    "\n",
    "    temp[k].append(array[mid])\n",
    "\n",
    "    if len(array) == 1:\n",
    "        return \n",
    "\n",
    "    binary_search(array[:mid], k+1)\n",
    "    binary_search(array[mid+1:], k+1)\n",
    "\n",
    "binary_search(array, 0)\n",
    "\n",
    "for node in temp:\n",
    "    for element in node:\n",
    "        print(element, end =\" \")\n",
    "    print()"
   ]
  },
  {
   "cell_type": "code",
   "execution_count": null,
   "metadata": {},
   "outputs": [],
   "source": []
  }
 ],
 "metadata": {
  "kernelspec": {
   "display_name": "base",
   "language": "python",
   "name": "python3"
  },
  "language_info": {
   "codemirror_mode": {
    "name": "ipython",
    "version": 3
   },
   "file_extension": ".py",
   "mimetype": "text/x-python",
   "name": "python",
   "nbconvert_exporter": "python",
   "pygments_lexer": "ipython3",
   "version": "3.10.9"
  }
 },
 "nbformat": 4,
 "nbformat_minor": 2
}
