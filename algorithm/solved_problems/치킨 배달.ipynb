{
 "cells": [
  {
   "cell_type": "code",
   "execution_count": 2,
   "metadata": {},
   "outputs": [
    {
     "name": "stdout",
     "output_type": "stream",
     "text": [
      "9\n"
     ]
    }
   ],
   "source": [
    "# N, M = list(map(int, input().split()))\n",
    "\n",
    "# array = []\n",
    "# for _ in range(N):\n",
    "#     array.append(list(map(int, input().split())))\n",
    "\n",
    "\n",
    "# N, M = 5, 3\n",
    "# array = [[0, 0, 1, 0, 0],[0 ,0, 2, 0, 1],[0, 1, 2, 0, 0],[0, 0, 1, 0, 0],[0, 0, 0, 0, 2]]\n",
    "\n",
    "N, M = 5, 2\n",
    "array = [[0, 2, 0, 1, 0],[1, 0, 1, 0, 0],[0, 0, 0, 0, 0],[2, 0, 0, 1, 1],[2, 2, 0, 1, 2]]\n",
    "\n",
    "\n",
    "chicken = []\n",
    "house = []\n",
    "\n",
    "for i in range(N):\n",
    "    for j in range(N):\n",
    "        if array[i][j] == 1:\n",
    "            house.append([i,j])\n",
    "        elif array[i][j] == 2:\n",
    "            chicken.append([i,j])\n",
    "\n",
    "\n",
    "\n",
    "from itertools import combinations\n",
    "comb_chicken = list(combinations(chicken, M))\n",
    "\n",
    "answer = 9999\n",
    "\n",
    "\n",
    "while comb_chicken:\n",
    "    chicken_list = comb_chicken.pop()\n",
    "    \n",
    "    city_distance = []\n",
    "    for h in house:\n",
    "    \n",
    "        distance = 9999\n",
    "        for c in chicken_list:\n",
    "            \n",
    "            distance  = min(distance, abs(h[0]-c[0]) + abs(h[1] - c[1])) \n",
    "            \n",
    "        city_distance.append(distance)\n",
    "    \n",
    "    answer = min(answer, sum(city_distance))\n",
    "    \n",
    "\n",
    "\n",
    "print(answer)\n"
   ]
  },
  {
   "cell_type": "code",
   "execution_count": null,
   "metadata": {},
   "outputs": [],
   "source": [
    "N, M = 5, 3\n",
    "array = [[0, 0, 1, 0, 0],[0 ,0, 2, 0, 1],[0, 1, 2, 0, 0],[0, 0, 1, 0, 0],[0, 0, 0, 0, 2]]"
   ]
  },
  {
   "cell_type": "code",
   "execution_count": null,
   "metadata": {},
   "outputs": [],
   "source": [
    "N, M = 5, 2\n",
    "array = [0, 2, 0, 1, 0],[1, 0, 1, 0, 0],[0, 0, 0, 0, 0],[2, 0, 0, 1, 1],[2, 2, 0, 1, 2]"
   ]
  }
 ],
 "metadata": {
  "kernelspec": {
   "display_name": "base",
   "language": "python",
   "name": "python3"
  },
  "language_info": {
   "codemirror_mode": {
    "name": "ipython",
    "version": 3
   },
   "file_extension": ".py",
   "mimetype": "text/x-python",
   "name": "python",
   "nbconvert_exporter": "python",
   "pygments_lexer": "ipython3",
   "version": "3.10.9"
  }
 },
 "nbformat": 4,
 "nbformat_minor": 2
}
