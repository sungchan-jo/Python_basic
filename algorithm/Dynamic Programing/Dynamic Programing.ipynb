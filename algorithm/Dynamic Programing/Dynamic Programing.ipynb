{
 "cells": [
  {
   "cell_type": "markdown",
   "metadata": {},
   "source": [
    "## 다이나믹 프로그래밍\n",
    "\n",
    "* 피보나치 수열과 같은 방식으로 작동하는 것"
   ]
  },
  {
   "cell_type": "code",
   "execution_count": 4,
   "metadata": {},
   "outputs": [
    {
     "ename": "KeyboardInterrupt",
     "evalue": "",
     "output_type": "error",
     "traceback": [
      "\u001b[1;31m---------------------------------------------------------------------------\u001b[0m",
      "\u001b[1;31mKeyboardInterrupt\u001b[0m                         Traceback (most recent call last)",
      "Cell \u001b[1;32mIn[4], line 10\u001b[0m\n\u001b[0;32m      6\u001b[0m         \u001b[39mreturn\u001b[39;00m \u001b[39m1\u001b[39m\n\u001b[0;32m      8\u001b[0m     \u001b[39mreturn\u001b[39;00m fibo(x\u001b[39m-\u001b[39m\u001b[39m1\u001b[39m) \u001b[39m+\u001b[39m fibo(x\u001b[39m-\u001b[39m\u001b[39m2\u001b[39m)\n\u001b[1;32m---> 10\u001b[0m \u001b[39mprint\u001b[39m(fibo(\u001b[39m99\u001b[39;49m))\n",
      "Cell \u001b[1;32mIn[4], line 8\u001b[0m, in \u001b[0;36mfibo\u001b[1;34m(x)\u001b[0m\n\u001b[0;32m      5\u001b[0m \u001b[39mif\u001b[39;00m x \u001b[39m==\u001b[39m \u001b[39m1\u001b[39m \u001b[39mor\u001b[39;00m x \u001b[39m==\u001b[39m \u001b[39m2\u001b[39m:\n\u001b[0;32m      6\u001b[0m     \u001b[39mreturn\u001b[39;00m \u001b[39m1\u001b[39m\n\u001b[1;32m----> 8\u001b[0m \u001b[39mreturn\u001b[39;00m fibo(x\u001b[39m-\u001b[39;49m\u001b[39m1\u001b[39;49m) \u001b[39m+\u001b[39m fibo(x\u001b[39m-\u001b[39m\u001b[39m2\u001b[39m)\n",
      "Cell \u001b[1;32mIn[4], line 8\u001b[0m, in \u001b[0;36mfibo\u001b[1;34m(x)\u001b[0m\n\u001b[0;32m      5\u001b[0m \u001b[39mif\u001b[39;00m x \u001b[39m==\u001b[39m \u001b[39m1\u001b[39m \u001b[39mor\u001b[39;00m x \u001b[39m==\u001b[39m \u001b[39m2\u001b[39m:\n\u001b[0;32m      6\u001b[0m     \u001b[39mreturn\u001b[39;00m \u001b[39m1\u001b[39m\n\u001b[1;32m----> 8\u001b[0m \u001b[39mreturn\u001b[39;00m fibo(x\u001b[39m-\u001b[39;49m\u001b[39m1\u001b[39;49m) \u001b[39m+\u001b[39m fibo(x\u001b[39m-\u001b[39m\u001b[39m2\u001b[39m)\n",
      "    \u001b[1;31m[... skipping similar frames: fibo at line 8 (80 times)]\u001b[0m\n",
      "Cell \u001b[1;32mIn[4], line 8\u001b[0m, in \u001b[0;36mfibo\u001b[1;34m(x)\u001b[0m\n\u001b[0;32m      5\u001b[0m \u001b[39mif\u001b[39;00m x \u001b[39m==\u001b[39m \u001b[39m1\u001b[39m \u001b[39mor\u001b[39;00m x \u001b[39m==\u001b[39m \u001b[39m2\u001b[39m:\n\u001b[0;32m      6\u001b[0m     \u001b[39mreturn\u001b[39;00m \u001b[39m1\u001b[39m\n\u001b[1;32m----> 8\u001b[0m \u001b[39mreturn\u001b[39;00m fibo(x\u001b[39m-\u001b[39m\u001b[39m1\u001b[39m) \u001b[39m+\u001b[39m fibo(x\u001b[39m-\u001b[39;49m\u001b[39m2\u001b[39;49m)\n",
      "Cell \u001b[1;32mIn[4], line 4\u001b[0m, in \u001b[0;36mfibo\u001b[1;34m(x)\u001b[0m\n\u001b[0;32m      1\u001b[0m \u001b[39m## 피보나치 수열\u001b[39;00m\n\u001b[0;32m      2\u001b[0m \u001b[39m## 단점으로 O(2^N)의 시간 복잡도를 가지고 있다.\u001b[39;00m\n\u001b[1;32m----> 4\u001b[0m \u001b[39mdef\u001b[39;00m \u001b[39mfibo\u001b[39m(x):\n\u001b[0;32m      5\u001b[0m     \u001b[39mif\u001b[39;00m x \u001b[39m==\u001b[39m \u001b[39m1\u001b[39m \u001b[39mor\u001b[39;00m x \u001b[39m==\u001b[39m \u001b[39m2\u001b[39m:\n\u001b[0;32m      6\u001b[0m         \u001b[39mreturn\u001b[39;00m \u001b[39m1\u001b[39m\n",
      "\u001b[1;31mKeyboardInterrupt\u001b[0m: "
     ]
    }
   ],
   "source": [
    "## 피보나치 수열\n",
    "## 단점으로 O(2^N)의 시간 복잡도를 가지고 있다.\n",
    "\n",
    "def fibo(x):\n",
    "    if x == 1 or x == 2:\n",
    "        return 1\n",
    "\n",
    "    return fibo(x-1) + fibo(x-2)\n"
   ]
  },
  {
   "cell_type": "code",
   "execution_count": 5,
   "metadata": {},
   "outputs": [
    {
     "name": "stdout",
     "output_type": "stream",
     "text": [
      "218922995834555169026\n"
     ]
    }
   ],
   "source": [
    "## 다이나믹 프로그래밍으로 피보나치 수열 해결하기(탑다운방식)\n",
    "\n",
    "# 한번 계산된 결과를 메모이제이션 하기 위한 리스트 초기화\n",
    "d = [0] * 100\n",
    "\n",
    "def fibo(x):\n",
    "\n",
    "    if x == 1 or x ==2:\n",
    "        return 1\n",
    "    if d[x] != 0:\n",
    "        return d[x]\n",
    "    \n",
    "    d[x] = fibo(x-1) + fibo(x-2)\n",
    "\n",
    "    return d[x]\n",
    "\n",
    "print(fibo(99))"
   ]
  },
  {
   "cell_type": "code",
   "execution_count": 6,
   "metadata": {},
   "outputs": [
    {
     "name": "stdout",
     "output_type": "stream",
     "text": [
      "218922995834555169026\n"
     ]
    }
   ],
   "source": [
    "## 보텀업 방식으로 피보나치 수열 풀어보기\n",
    "\n",
    "d = [0] * 100\n",
    "\n",
    "d[1] = 1\n",
    "d[2] = 1\n",
    "\n",
    "n = 99\n",
    "\n",
    "for i in range(3, n+1):\n",
    "    d[i] = d[i-1] + d[i-2]\n",
    "\n",
    "print(d[n])"
   ]
  },
  {
   "cell_type": "code",
   "execution_count": 10,
   "metadata": {},
   "outputs": [
    {
     "name": "stdout",
     "output_type": "stream",
     "text": [
      "5\n",
      "3\n"
     ]
    }
   ],
   "source": [
    "## 1로 만들기\n",
    "\n",
    "## 정수 X가 주어질 때 정수 X 에 사용할 수 있는 연산은 4가지이다\n",
    "## 5로 나누어 떨어지면 5로 나눈다\n",
    "## 3으로 나누어 떨어지면 3으로 나눈다\n",
    "## 2로 나누어 떨어지면 2로 나눈다\n",
    "## X에서 1을 뺀다\n",
    "\n",
    "#  정수 X가 주어졌을 때 다음과 같이 계산해서 3번의 연산이 최솟값이다\n",
    "# 26 - 1 = 25, 25 / 5 = 5, 5/5 = 1\n",
    "\n",
    "\n",
    "x = 26\n",
    "\n",
    "\n",
    "def caculate(x,count):\n",
    "    if x == 1:\n",
    "        return count\n",
    "    if x % 5 == 0:\n",
    "        \n",
    "        return caculate(x / 5,count+1)\n",
    "    \n",
    "    elif x % 3 == 0:\n",
    "        \n",
    "        return caculate(x / 3,count+1)\n",
    "    \n",
    "    elif x % 2 == 0:\n",
    "        return caculate(x / 2,count+1)\n",
    "\n",
    "    else:\n",
    "        return caculate(x-1,count+1)\n",
    "\n",
    "print(caculate(26,0))\n",
    "\n",
    "## 문제 실패 ( 빼기를 먼저 했을 때, 더 좋은 결과가 나올 수 있음)\n",
    "\n",
    "\n",
    "# 정답(보텀업)\n",
    "d = [0]* 10000\n",
    "\n",
    "for i in range(2, x+1):\n",
    "    # 현재 수에서 1을 빼는 경우\n",
    "    d[i] = d[i - 1] + 1\n",
    "\n",
    "    if i % 2 == 0:\n",
    "        d[i] = min(d[i], d[i // 2] + 1)\n",
    "\n",
    "    if i % 3 == 0:\n",
    "        d[i] = min(d[i], d[i // 3] + 1)\n",
    "\n",
    "    if i % 5 == 0:\n",
    "        d[i] = min(d[i], d[i // 5] + 1)\n",
    "\n",
    "\n",
    "print(d[26])\n",
    "\n"
   ]
  },
  {
   "cell_type": "code",
   "execution_count": 11,
   "metadata": {},
   "outputs": [
    {
     "name": "stdout",
     "output_type": "stream",
     "text": [
      "8\n"
     ]
    }
   ],
   "source": [
    "## 개미 전사\n",
    "\n",
    "## 개미 전사는 식량 창고를 선택적으로 약탈하여 식량을 빼앗을 예정이다\n",
    "## 메뚜기 정찰병들은 인접한 식량창고가 공격받으면 알아차릴 수 있다.\n",
    "## 개미 전사가 들키지 않으려면 최소 한칸 이상 떨어진 식량 창고를 약탈해야 한다.\n",
    "\n",
    "## 약탈할 최대 식량을 구하시오\n",
    "\n",
    "##총 식량 창고 개수\n",
    "n = 4\n",
    "\n",
    "array = [1, 3, 1, 5]\n",
    "\n",
    "d= [0] * 100\n",
    "\n",
    "d[0] = array[0]\n",
    "d[1] = max( array[0], array[1])\n",
    "\n",
    "for i in range(2, n):\n",
    "    d[i] = max(d[i-1], d[i-2]+ array[i])\n",
    "\n",
    "print(d[n-1])"
   ]
  },
  {
   "cell_type": "markdown",
   "metadata": {},
   "source": [
    "## 프로그래머스 도둑질\n",
    "\n",
    "도둑질\n",
    "문제 설명\n",
    "도둑이 어느 마을을 털 계획을 하고 있습니다.\n",
    "이 마을의 모든 집들은 아래 그림과 같이 동그랗게 배치되어 있습니다.\n",
    "\n",
    "![Alt text](image.png)\n",
    "\n",
    "각 집들은 서로 인접한 집들과 방범장치가 연결되어 있기 때문에 인접한 두 집을 털면 경보가 울립니다.\n",
    "\n",
    "각 집에 있는 돈이 담긴 배열 money가 주어질 때, 도둑이 훔칠 수 있는 돈의 최댓값을 return 하도록 solution 함수를 작성하세요.\n",
    "\n",
    "제한사항\n",
    "이 마을에 있는 집은 3개 이상 1,000,000개 이하입니다.\n",
    "money 배열의 각 원소는 0 이상 1,000 이하인 정수입니다.\n",
    "입출력 예\n",
    "* money\treturn\n",
    "* [1, 2, 3, 1]\t4"
   ]
  },
  {
   "cell_type": "code",
   "execution_count": 1,
   "metadata": {},
   "outputs": [],
   "source": [
    "## 개미 전사 문제와 동일하지만, 원형 리스트 형태의 차이가 있다.\n",
    "## 순환구조를 해결하고자, 맨 앞과 맨 뒤 원소를 제거한 각각의 리스트를 활용하는 것이 포인트\n",
    "\n",
    "def solution(money):\n",
    "    answer = []\n",
    "    arrays = [money[1:], money[:-1]]\n",
    "    \n",
    "    for array in arrays:\n",
    "        array.insert(0,0)\n",
    "        d = [0] * len(money)\n",
    "\n",
    "        d[0] = array[0]\n",
    "        d[1] = max( array[0], array[1])\n",
    "\n",
    "\n",
    "        for i in range(2,len(array)):\n",
    "            d[i] = max(d[i-1], d[i-2] + array[i])\n",
    "        \n",
    "        answer.append(d[-1])\n",
    "        \n",
    "    \n",
    "    return max(answer)"
   ]
  },
  {
   "cell_type": "code",
   "execution_count": 24,
   "metadata": {},
   "outputs": [
    {
     "name": "stdout",
     "output_type": "stream",
     "text": [
      "548185\n"
     ]
    }
   ],
   "source": [
    "## 바닥 공사\n",
    "\n",
    "## 가로 길이가 N 세로 길이가 2인 직사각형 형태의 바닥\n",
    "## 1X2, 2X1, 2X2 의 덮개를 이용해 바닥을 채우려 함\n",
    "## 모든 가능한 경우의 수는?\n",
    "\n",
    "n = 50\n",
    "d = [0] * 1001\n",
    "d[1] = 1\n",
    "d[2] = 3\n",
    "\n",
    "# [ / / ] i - 1 번째에 경우에 +1\n",
    "# [ /  /  / ] i - 2 번째 경우의 + 3\n",
    "\n",
    "for i in range(3, n+1):\n",
    "\n",
    "    d[i] = (d[i-1] + 2 * d[i-2]) % 796796\n",
    "\n",
    "print(d[49])\n",
    "\n"
   ]
  },
  {
   "cell_type": "code",
   "execution_count": 1,
   "metadata": {},
   "outputs": [
    {
     "name": "stdout",
     "output_type": "stream",
     "text": [
      "5\n"
     ]
    }
   ],
   "source": [
    "## 효율적인 화폐 구성\n",
    "\n",
    "# N 가지 종류의 화폐가 있다.\n",
    "# 최소한으로 개수를 이용해서 그 가치의 합이 M 원이 되도록한다.\n",
    "# 예를 들어 2원 3원이 있을때 15원을 만들기 위해 최소한의 화폐 개수는 3원 5개이다.\n",
    "# 불가능할 경우 -1을 출력\n",
    "\n",
    "n , m = 2, 15\n",
    "array = [2,3]\n",
    "d= [10001] * 10001\n",
    "d[0] = 0\n",
    "\n",
    "for i in range(n):\n",
    "    for j in range(array[i],m+1):\n",
    "        if d[j - array[i]] != 10001: # (i-k)원을 만드는 방법이 존재할 경우\n",
    "            d[j] = min(d[j-array[i]]+1, d[j])\n",
    "\n",
    "if d[m] == 10001:\n",
    "    print(-1)\n",
    "else:\n",
    "    print(d[m])\n",
    "\n"
   ]
  },
  {
   "cell_type": "code",
   "execution_count": 3,
   "metadata": {},
   "outputs": [
    {
     "name": "stdout",
     "output_type": "stream",
     "text": [
      "0\n"
     ]
    }
   ],
   "source": [
    "def lcs_length(X, Y):\n",
    "    m = len(X)\n",
    "    n = len(Y)\n",
    "\n",
    "    # 메모이제이션 배열 초기화\n",
    "    memo = [[0] * (n + 1) for _ in range(m + 1)]\n",
    "\n",
    "    for i in range(1, m + 1):\n",
    "        for j in range(1, n + 1):\n",
    "            if X[i - 1] == Y[j - 1]:\n",
    "                memo[i][j] = memo[i - 1][j - 1] + 1\n",
    "            else:\n",
    "                memo[i][j] = max(memo[i - 1][j], memo[i][j - 1])\n",
    "\n",
    "    return memo[m][n]\n",
    "\n",
    "# 입력 받기\n",
    "X = input().strip()\n",
    "Y = input().strip()\n",
    "\n",
    "# LCS의 길이 출력\n",
    "print(lcs_length(X, Y))"
   ]
  },
  {
   "cell_type": "markdown",
   "metadata": {},
   "source": [
    "#"
   ]
  },
  {
   "cell_type": "code",
   "execution_count": null,
   "metadata": {},
   "outputs": [],
   "source": [
    "str1 = input()\n",
    "str2 = input\n",
    "\n",
    "m,n = len(str1), len(str2)\n",
    "\n",
    "d1 = [0] * m\n",
    "d2 = [0] * n\n",
    "\n",
    "#ACAYKP\n",
    "#CAPCAK\n",
    "#A\n",
    "#C, A, P, C, A, K\n",
    "\n",
    "\n",
    "\n",
    "\n"
   ]
  }
 ],
 "metadata": {
  "kernelspec": {
   "display_name": "base",
   "language": "python",
   "name": "python3"
  },
  "language_info": {
   "codemirror_mode": {
    "name": "ipython",
    "version": 3
   },
   "file_extension": ".py",
   "mimetype": "text/x-python",
   "name": "python",
   "nbconvert_exporter": "python",
   "pygments_lexer": "ipython3",
   "version": "3.10.9"
  },
  "orig_nbformat": 4
 },
 "nbformat": 4,
 "nbformat_minor": 2
}
